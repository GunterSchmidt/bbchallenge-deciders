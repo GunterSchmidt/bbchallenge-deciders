{
 "cells": [
  {
   "cell_type": "code",
   "execution_count": 1,
   "id": "2f96c233-efb2-4c63-a9dd-c2fb308ab6c6",
   "metadata": {
    "tags": []
   },
   "outputs": [],
   "source": [
    "import os\n",
    "import tqdm\n",
    "os.chdir(\"../\")"
   ]
  },
  {
   "cell_type": "code",
   "execution_count": 2,
   "id": "20b72426-4994-4e04-bfda-37b774a2981b",
   "metadata": {
    "tags": []
   },
   "outputs": [],
   "source": [
    "from parser_FAR_dvf import *"
   ]
  },
  {
   "cell_type": "code",
   "execution_count": 3,
   "id": "c03515f6-021b-45fb-bc22-5773f163861d",
   "metadata": {
    "tags": []
   },
   "outputs": [],
   "source": [
    "prefix = \"/home/cosmo/Documents/projects/bbchallenge/JEB/bbchallenge-deciders/decider-finite-automata-reduction/output\"\n",
    "dvf_JEB = FAR_DVF.from_file(prefix+\"/finite_automata_reduction.dvf\", pre_scan=True, compute_n_entries=True)\n",
    "dvf_Tony = FAR_DVF.from_file(prefix+\"/FAR_6_DFA_states.dvf\", pre_scan=True)"
   ]
  },
  {
   "cell_type": "markdown",
   "id": "85fd74a3-196a-4675-9473-21e49a324aa3",
   "metadata": {},
   "source": [
    "## Extract machines solved"
   ]
  },
  {
   "cell_type": "code",
   "execution_count": 12,
   "id": "6a92c755-de57-456d-acd1-a04441e9980f",
   "metadata": {
    "tags": []
   },
   "outputs": [
    {
     "name": "stderr",
     "output_type": "stream",
     "text": [
      "100%|█████████████████████████████████████████████████████████████████████████████████████████████████████████████| 504210/504210 [00:04<00:00, 119532.08it/s]\n"
     ]
    }
   ],
   "source": [
    "solved_JEB = set({})\n",
    "with open(prefix+\"/finite_automata_reduction.dvf\", \"rb\") as f:\n",
    "    for i in tqdm.tqdm(range(dvf_JEB.n_entries)):\n",
    "        header, _ = dvf_JEB.ith_entry(f,i, ignore_n_entries=True)\n",
    "        solved_JEB.add(header.machine_id)"
   ]
  },
  {
   "cell_type": "code",
   "execution_count": 13,
   "id": "d01099ff-f493-4d51-b90f-a4a7c284ca83",
   "metadata": {
    "tags": []
   },
   "outputs": [
    {
     "name": "stderr",
     "output_type": "stream",
     "text": [
      "100%|█████████████████████████████████████████████████████████████████████████████████████████████████████████████| 503169/503169 [00:04<00:00, 113173.67it/s]\n"
     ]
    }
   ],
   "source": [
    "solved_Tony = set({})\n",
    "with open(prefix+\"/FAR_6_DFA_states.dvf\", \"rb\") as f:\n",
    "    for i in tqdm.tqdm(range(dvf_Tony.n_entries)):\n",
    "        header, _ = dvf_Tony.ith_entry(f, i)\n",
    "        solved_Tony.add(header.machine_id)"
   ]
  },
  {
   "cell_type": "code",
   "execution_count": 6,
   "id": "045123b5-bef2-4a13-a7c8-9bf0d6e8620b",
   "metadata": {
    "tags": []
   },
   "outputs": [
    {
     "data": {
      "text/plain": [
       "503169"
      ]
     },
     "execution_count": 6,
     "metadata": {},
     "output_type": "execute_result"
    }
   ],
   "source": [
    "len(solved_JEB)"
   ]
  },
  {
   "cell_type": "code",
   "execution_count": 7,
   "id": "9f2b1548-16b7-431f-b291-c68aa25cd29c",
   "metadata": {
    "tags": []
   },
   "outputs": [
    {
     "data": {
      "text/plain": [
       "503169"
      ]
     },
     "execution_count": 7,
     "metadata": {},
     "output_type": "execute_result"
    }
   ],
   "source": [
    "len(solved_Tony)"
   ]
  },
  {
   "cell_type": "code",
   "execution_count": 39,
   "id": "02185419-9eb6-4a9b-b2c3-59c80540b191",
   "metadata": {
    "tags": []
   },
   "outputs": [
    {
     "data": {
      "text/plain": [
       "5242882"
      ]
     },
     "execution_count": 39,
     "metadata": {},
     "output_type": "execute_result"
    }
   ],
   "source": [
    "list(solved_Tony)[1]"
   ]
  },
  {
   "cell_type": "code",
   "execution_count": 8,
   "id": "4c91754b-952f-4e5e-b044-a882fd12a542",
   "metadata": {
    "tags": []
   },
   "outputs": [
    {
     "data": {
      "text/plain": [
       "True"
      ]
     },
     "execution_count": 8,
     "metadata": {},
     "output_type": "execute_result"
    }
   ],
   "source": [
    "solved_JEB == solved_Tony"
   ]
  },
  {
   "cell_type": "code",
   "execution_count": 29,
   "id": "f4b70563-0db6-4784-be68-69474d2b1c63",
   "metadata": {
    "tags": []
   },
   "outputs": [
    {
     "data": {
      "text/plain": [
       "b'\\x00\\x00\\x00\\x04'"
      ]
     },
     "execution_count": 29,
     "metadata": {},
     "output_type": "execute_result"
    }
   ],
   "source": [
    "a: int = 4\n",
    "a.to_bytes(4,\"big\")"
   ]
  },
  {
   "cell_type": "code",
   "execution_count": 32,
   "id": "c24f2c8a-56f7-46ac-943b-309a2d68ca10",
   "metadata": {
    "tags": []
   },
   "outputs": [],
   "source": [
    "with open(\"FAR-finite-automata-reduction-JEB-max-6-DFA-states\", \"wb\") as f:\n",
    "    for machine_id in sorted(solved_Tony):\n",
    "        f.write(machine_id.to_bytes(4,\"big\"))"
   ]
  },
  {
   "cell_type": "markdown",
   "id": "3f0a4efd-7ba4-4f0f-9cc4-8c21c1df36e5",
   "metadata": {
    "tags": []
   },
   "source": [
    "## Extract DFAs"
   ]
  },
  {
   "cell_type": "code",
   "execution_count": 17,
   "id": "15db05bc-84c8-4c8e-910d-124c88a7c9e1",
   "metadata": {
    "tags": []
   },
   "outputs": [
    {
     "name": "stderr",
     "output_type": "stream",
     "text": [
      "100%|██████████████████████████████████████████████████████████████████████████████████████████████████████████████| 504210/504210 [00:06<00:00, 77447.51it/s]\n"
     ]
    }
   ],
   "source": [
    "DFAs_JEB = {}\n",
    "with open(prefix+\"/finite_automata_reduction.dvf\", \"rb\") as f:\n",
    "    for i in tqdm.tqdm(range(dvf_JEB.n_entries)):\n",
    "        header, entry = dvf_JEB.ith_entry(f,i)\n",
    "        if header.machine_id not in DFAs_JEB:\n",
    "            DFAs_JEB[header.machine_id] = []\n",
    "        DFAs_JEB[header.machine_id].append(str(entry.dfa_transitions))"
   ]
  },
  {
   "cell_type": "code",
   "execution_count": 18,
   "id": "a1386fc6-1c64-4efa-941d-dc2019562ffc",
   "metadata": {
    "tags": []
   },
   "outputs": [
    {
     "name": "stderr",
     "output_type": "stream",
     "text": [
      "100%|██████████████████████████████████████████████████████████████████████████████████████████████████████████████| 503169/503169 [00:06<00:00, 75697.15it/s]\n"
     ]
    }
   ],
   "source": [
    "DFAs_Tony = {}\n",
    "with open(prefix+\"/FAR_6_DFA_states.dvf\", \"rb\") as f:\n",
    "    for i in tqdm.tqdm(range(dvf_Tony.n_entries)):\n",
    "        header, entry = dvf_Tony.ith_entry(f,i)\n",
    "        if header.machine_id not in DFAs_Tony:\n",
    "            DFAs_Tony[header.machine_id] = []\n",
    "        DFAs_Tony[header.machine_id].append(str(entry.dfa_transitions))"
   ]
  },
  {
   "cell_type": "code",
   "execution_count": 19,
   "id": "03815553-0aeb-4d47-ac53-23ad6450bb47",
   "metadata": {
    "tags": []
   },
   "outputs": [
    {
     "name": "stdout",
     "output_type": "stream",
     "text": [
      "75\n",
      "[[0, 1], [2, 3], [1, 3], [3, 4], [3, 5], [3, 3]]\n",
      "['[[0, 1], [2, 3], [1, 3], [3, 3]]']\n"
     ]
    }
   ],
   "source": [
    "for m in DFAs_Tony:\n",
    "    if not DFAs_Tony[m][0] in DFAs_JEB[m]:\n",
    "        print(m)\n",
    "        print(DFAs_Tony[m][0])\n",
    "        print(DFAs_JEB[m])\n",
    "        break"
   ]
  },
  {
   "cell_type": "code",
   "execution_count": 20,
   "id": "1ba84149-bda0-4e76-af46-adc1ebb68228",
   "metadata": {
    "tags": []
   },
   "outputs": [
    {
     "data": {
      "text/plain": [
       "465239"
      ]
     },
     "execution_count": 20,
     "metadata": {},
     "output_type": "execute_result"
    }
   ],
   "source": [
    "count = 0\n",
    "for m in DFAs_Tony:\n",
    "    if not DFAs_Tony[m][0] in DFAs_JEB[m]:\n",
    "        count += 1\n",
    "count"
   ]
  },
  {
   "cell_type": "code",
   "execution_count": 21,
   "id": "4bb20dad-3219-4849-8d73-fd4e09b85d72",
   "metadata": {
    "tags": []
   },
   "outputs": [
    {
     "data": {
      "text/plain": [
       "503169"
      ]
     },
     "execution_count": 21,
     "metadata": {},
     "output_type": "execute_result"
    }
   ],
   "source": [
    "len(DFAs_Tony)"
   ]
  },
  {
   "cell_type": "code",
   "execution_count": 23,
   "id": "2e60fd54-d367-4f28-8e39-702e8a11faae",
   "metadata": {
    "tags": []
   },
   "outputs": [
    {
     "data": {
      "text/plain": [
       "48"
      ]
     },
     "execution_count": 23,
     "metadata": {},
     "output_type": "execute_result"
    }
   ],
   "source": [
    "len(DFAs_Tony[75][0])"
   ]
  },
  {
   "cell_type": "code",
   "execution_count": 24,
   "id": "5b5a58bd-3e75-42be-bde4-cb2a283b4ed0",
   "metadata": {
    "tags": []
   },
   "outputs": [],
   "source": [
    "for m in DFAs_Tony:\n",
    "    if len(DFAs_Tony[m][0]) != 48:\n",
    "        print(m)"
   ]
  },
  {
   "cell_type": "code",
   "execution_count": 35,
   "id": "32436132-3abf-4e9d-a2e9-9a25c6b8f87a",
   "metadata": {
    "tags": []
   },
   "outputs": [],
   "source": [
    "def ithl(i):\n",
    "    return chr(ord(\"A\") + i)\n",
    "\n",
    "def to_bbchallenge_format(tm) -> str:\n",
    "    to_ret = \"\"\n",
    "    for i, b in enumerate(tm):\n",
    "        if i % 6 == 0 and i != 0:\n",
    "            to_ret += \"_\"\n",
    "\n",
    "        if i % 3 == 0 and tm[i + 2] == 0:\n",
    "            to_ret += \"-\"\n",
    "            continue\n",
    "        if i % 3 == 1 and tm[i + 1] == 0:\n",
    "            to_ret += \"-\"\n",
    "            continue\n",
    "\n",
    "        if i % 3 == 0:\n",
    "            to_ret += \"0\" if b == 0 else \"1\"\n",
    "        elif i % 3 == 1:\n",
    "            to_ret += \"R\" if b == 0 else \"L\"\n",
    "        else:\n",
    "            if b == 0:\n",
    "                to_ret += \"-\"\n",
    "            else:\n",
    "                to_ret += ithl(b - 1)\n",
    "\n",
    "    return to_ret"
   ]
  },
  {
   "cell_type": "code",
   "execution_count": 33,
   "id": "04572b89-11d5-45c9-a7f4-c99788585b5e",
   "metadata": {
    "tags": []
   },
   "outputs": [],
   "source": [
    "from tm_utils import load_machine_from_db"
   ]
  },
  {
   "cell_type": "code",
   "execution_count": 37,
   "id": "763a792d-d106-4d2f-afd3-27d262f6ffcc",
   "metadata": {
    "tags": []
   },
   "outputs": [],
   "source": [
    "with open(\"bb5_undecided_machines.csv\", \"w\") as f:\n",
    "    f.write(\"machine ID,machine description\\n\")\n",
    "    with open(\"../all_5_states_undecided_machines_with_global_header\", \"rb\") as fdb:\n",
    "        with open(\"../bb5_undecided_index\", \"rb\") as fund:\n",
    "            raw_fund = fund.read()\n",
    "            for i in range(0,len(raw_fund),4):\n",
    "                machine_id = int.from_bytes(raw_fund[i:i+4],byteorder=\"big\")\n",
    "                machine_desc = to_bbchallenge_format(load_machine_from_db(fdb,machine_id))\n",
    "                f.write(f\"{machine_id},{machine_desc}\\n\")\n",
    "                "
   ]
  },
  {
   "cell_type": "code",
   "execution_count": null,
   "id": "70e7d895-57a2-470b-bb7f-ced97312e5b9",
   "metadata": {},
   "outputs": [],
   "source": []
  }
 ],
 "metadata": {
  "kernelspec": {
   "display_name": "Python 3 (ipykernel)",
   "language": "python",
   "name": "python3"
  },
  "language_info": {
   "codemirror_mode": {
    "name": "ipython",
    "version": 3
   },
   "file_extension": ".py",
   "mimetype": "text/x-python",
   "name": "python",
   "nbconvert_exporter": "python",
   "pygments_lexer": "ipython3",
   "version": "3.10.8"
  }
 },
 "nbformat": 4,
 "nbformat_minor": 5
}
