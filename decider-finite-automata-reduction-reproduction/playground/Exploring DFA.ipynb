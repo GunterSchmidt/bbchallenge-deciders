{
 "cells": [
  {
   "cell_type": "code",
   "execution_count": 1,
   "id": "a74fbc36-efa7-45f2-a292-c6e5de85209d",
   "metadata": {
    "tags": []
   },
   "outputs": [],
   "source": [
    "import os\n",
    "import tqdm\n",
    "os.chdir(\"../\")"
   ]
  },
  {
   "cell_type": "code",
   "execution_count": 2,
   "id": "e6b49e95-30c9-47a9-a678-26b7ccc84467",
   "metadata": {
    "tags": []
   },
   "outputs": [],
   "source": [
    "from parser_FAR_dvf import *"
   ]
  },
  {
   "cell_type": "code",
   "execution_count": 8,
   "id": "7912a796-8752-4297-a83b-7f607f8133a5",
   "metadata": {
    "tags": []
   },
   "outputs": [],
   "source": [
    "dvf = FAR_DVF.from_file(\"resources/dfa_nfa_proofs.dvf\", pre_scan=True)"
   ]
  },
  {
   "cell_type": "markdown",
   "id": "54baf7f4-610c-4de0-af88-1900088da237",
   "metadata": {},
   "source": [
    "### Regrouping all DFA with same number of states together (<= 7 states)"
   ]
  },
  {
   "cell_type": "code",
   "execution_count": 9,
   "id": "4b1d4c00-cb47-42cc-8ea1-d3b9d4b903ba",
   "metadata": {
    "tags": []
   },
   "outputs": [
    {
     "name": "stderr",
     "output_type": "stream",
     "text": [
      "100%|██████████████████████████████████████████████████████████████| 534866/534866 [00:12<00:00, 42504.34it/s]\n"
     ]
    }
   ],
   "source": [
    "dfas_per_state_count = {}\n",
    "with open(\"resources/dfa_nfa_proofs.dvf\", \"rb\") as f:\n",
    "    for i in tqdm.tqdm(range(dvf.n_entries)):\n",
    "        header, entry = dvf.ith_entry(f, i)\n",
    "        \n",
    "        if entry.nb_dfa_states > 7:\n",
    "            continue\n",
    "        \n",
    "        if entry.nb_dfa_states not in dfas_per_state_count:\n",
    "            dfas_per_state_count[entry.nb_dfa_states] = {}\n",
    "        \n",
    "        dfa_repr = str(entry.dfa_transitions)\n",
    "        if dfa_repr not in dfas_per_state_count[entry.nb_dfa_states]:\n",
    "            dfas_per_state_count[entry.nb_dfa_states][dfa_repr] = 0\n",
    "            \n",
    "        dfas_per_state_count[entry.nb_dfa_states][dfa_repr] += 1"
   ]
  },
  {
   "cell_type": "code",
   "execution_count": 13,
   "id": "a83eadf1-7710-4a1a-b5c1-08cafd04f94b",
   "metadata": {
    "tags": []
   },
   "outputs": [
    {
     "name": "stdout",
     "output_type": "stream",
     "text": [
      "1 DFA with 1 states solving 57640 machines\n",
      "3 DFA with 2 states solving 75822 machines\n",
      "37 DFA with 3 states solving 102239 machines\n",
      "407 DFA with 4 states solving 140760 machines\n",
      "1777 DFA with 5 states solving 88778 machines\n",
      "3549 DFA with 6 states solving 37930 machines\n",
      "1090 DFA with 7 states solving 3181 machines\n"
     ]
    }
   ],
   "source": [
    "for i in range(1,8):\n",
    "    count = 0\n",
    "    for dfa in dfas_per_state_count[i]:\n",
    "        count += dfas_per_state_count[i][dfa]\n",
    "    print(f\"{len(dfas_per_state_count[i])} DFA with {i} states solving {count} machines\")"
   ]
  },
  {
   "cell_type": "markdown",
   "id": "43b155e5-69c3-4958-beab-9996772f7692",
   "metadata": {},
   "source": [
    "### Automata minimization\n",
    "Are all the DFAs minimal?"
   ]
  },
  {
   "cell_type": "code",
   "execution_count": 21,
   "id": "9c3ef890-fc14-485f-8c53-934ffe4475c9",
   "metadata": {
    "tags": []
   },
   "outputs": [],
   "source": [
    "from automata.fa.dfa import DFA"
   ]
  },
  {
   "cell_type": "code",
   "execution_count": 24,
   "id": "69a2844a-7a77-45cf-9ee0-2429f59f5031",
   "metadata": {
    "tags": []
   },
   "outputs": [],
   "source": [
    "def dfa_transitions_to_automata_lib(dfa_transitions):\n",
    "    states = set({})\n",
    "    for i in range(len(dfa_transitions)):\n",
    "        states.add(str(i))\n",
    "    input_symbols={'0', '1'}\n",
    "    transitions = {}\n",
    "    for i in range(len(dfa_transitions)):\n",
    "        transitions[str(i)] = {'0': str(dfa_transitions[i][0]),\n",
    "                               '1': str(dfa_transitions[i][1])}\n",
    "    initial_state = '0'\n",
    "    final_states = set({})\n",
    "    return DFA(states=states,input_symbols=input_symbols,transitions=transitions,\n",
    "               initial_state=initial_state,\n",
    "               final_states=final_states)"
   ]
  },
  {
   "cell_type": "code",
   "execution_count": 20,
   "id": "1b5e203c-e57a-453d-9430-8aa498858028",
   "metadata": {
    "tags": []
   },
   "outputs": [],
   "source": [
    "\n",
    "# DFA which matches all binary strings ending in an odd number of '1's\n",
    "dfa = DFA(\n",
    "    states={'q0', 'q1', 'q2'},\n",
    "    input_symbols={'0', '1'},\n",
    "    transitions={\n",
    "        'q0': {'0': 'q0', '1': 'q1'},\n",
    "        'q1': {'0': 'q0', '1': 'q2'},\n",
    "        'q2': {'0': 'q2', '1': 'q1'}\n",
    "    },\n",
    "    initial_state='q0',\n",
    "    final_states={'q1'}\n",
    ")"
   ]
  },
  {
   "cell_type": "code",
   "execution_count": 15,
   "id": "63e5d577-9f9d-4fe7-b4cb-8900f00dbc7b",
   "metadata": {
    "tags": []
   },
   "outputs": [
    {
     "data": {
      "text/plain": [
       "{'[[0, 1], [0, 1]]': 55676, '[[0, 1], [0, 0]]': 19964, '[[0, 1], [1, 1]]': 182}"
      ]
     },
     "execution_count": 15,
     "metadata": {},
     "output_type": "execute_result"
    }
   ],
   "source": [
    "dfas_per_state_count[2]"
   ]
  },
  {
   "cell_type": "code",
   "execution_count": 29,
   "id": "b8e2d974-61b6-425f-8dfb-e3033a8eb86b",
   "metadata": {
    "tags": []
   },
   "outputs": [
    {
     "data": {
      "text/plain": [
       "DFA(states={0}, input_symbols={'0', '1'}, transitions={0: {'0': 0, '1': 0}}, initial_state=0, final_states=set(), allow_partial=False)"
      ]
     },
     "execution_count": 29,
     "metadata": {},
     "output_type": "execute_result"
    }
   ],
   "source": [
    "dfa_transitions_to_automata_lib([[0, 1], [0, 1]]).minify()"
   ]
  },
  {
   "cell_type": "code",
   "execution_count": 31,
   "id": "a4663fc9-63ea-4f5b-b80f-abe6976efc43",
   "metadata": {
    "tags": []
   },
   "outputs": [],
   "source": [
    "def nb_dfa_n_states_2_symbols(n):\n",
    "    return n**(2*n)"
   ]
  },
  {
   "cell_type": "code",
   "execution_count": 34,
   "id": "ea42f1db-28a2-42be-8bb6-d3a7ad169bfb",
   "metadata": {
    "tags": []
   },
   "outputs": [
    {
     "data": {
      "text/plain": [
       "678223072849"
      ]
     },
     "execution_count": 34,
     "metadata": {},
     "output_type": "execute_result"
    }
   ],
   "source": [
    "nb_dfa_n_states_2_symbols(7)"
   ]
  },
  {
   "cell_type": "code",
   "execution_count": 30,
   "id": "2bf7d856-c1cc-4c71-8246-306df3d026a9",
   "metadata": {
    "tags": []
   },
   "outputs": [
    {
     "data": {
      "text/plain": [
       "{'[[0, 1], [2, 0], [1, 0]]': 679,\n",
       " '[[0, 1], [0, 2], [2, 2]]': 8725,\n",
       " '[[0, 1], [1, 2], [2, 2]]': 3266,\n",
       " '[[0, 1], [2, 1], [1, 1]]': 1133,\n",
       " '[[0, 1], [2, 1], [0, 1]]': 5555,\n",
       " '[[0, 1], [0, 2], [1, 2]]': 2480,\n",
       " '[[0, 1], [0, 2], [2, 1]]': 340,\n",
       " '[[0, 1], [0, 2], [0, 1]]': 10371,\n",
       " '[[0, 1], [2, 2], [0, 1]]': 6342,\n",
       " '[[0, 1], [2, 2], [2, 1]]': 620,\n",
       " '[[0, 1], [0, 2], [0, 2]]': 10270,\n",
       " '[[0, 1], [2, 1], [0, 0]]': 824,\n",
       " '[[0, 1], [2, 0], [0, 0]]': 97,\n",
       " '[[0, 1], [2, 1], [2, 2]]': 9646,\n",
       " '[[0, 1], [2, 1], [1, 0]]': 731,\n",
       " '[[0, 1], [2, 0], [0, 1]]': 2923,\n",
       " '[[0, 1], [2, 2], [0, 2]]': 117,\n",
       " '[[0, 1], [2, 0], [0, 2]]': 164,\n",
       " '[[0, 1], [2, 0], [2, 2]]': 28188,\n",
       " '[[0, 1], [0, 2], [1, 1]]': 662,\n",
       " '[[0, 1], [2, 0], [1, 1]]': 562,\n",
       " '[[0, 1], [2, 2], [1, 2]]': 40,\n",
       " '[[0, 1], [1, 2], [1, 2]]': 759,\n",
       " '[[0, 1], [2, 1], [2, 1]]': 59,\n",
       " '[[0, 1], [1, 2], [1, 1]]': 367,\n",
       " '[[0, 1], [0, 2], [0, 0]]': 6810,\n",
       " '[[0, 1], [2, 2], [0, 0]]': 93,\n",
       " '[[0, 1], [1, 2], [0, 0]]': 2,\n",
       " '[[0, 1], [2, 0], [2, 1]]': 75,\n",
       " '[[0, 1], [2, 1], [0, 2]]': 54,\n",
       " '[[0, 1], [1, 2], [0, 2]]': 6,\n",
       " '[[0, 1], [0, 2], [1, 0]]': 133,\n",
       " '[[0, 1], [1, 2], [1, 0]]': 24,\n",
       " '[[0, 1], [2, 2], [2, 0]]': 24,\n",
       " '[[0, 1], [2, 2], [2, 2]]': 81,\n",
       " '[[0, 1], [0, 2], [2, 0]]': 13,\n",
       " '[[0, 1], [2, 1], [2, 0]]': 4}"
      ]
     },
     "execution_count": 30,
     "metadata": {},
     "output_type": "execute_result"
    }
   ],
   "source": [
    "dfas_per_state_count[3]"
   ]
  },
  {
   "cell_type": "code",
   "execution_count": null,
   "id": "aba539cc-5c46-4637-82bd-042835340b1b",
   "metadata": {},
   "outputs": [],
   "source": []
  }
 ],
 "metadata": {
  "kernelspec": {
   "display_name": "Python 3 (ipykernel)",
   "language": "python",
   "name": "python3"
  },
  "language_info": {
   "codemirror_mode": {
    "name": "ipython",
    "version": 3
   },
   "file_extension": ".py",
   "mimetype": "text/x-python",
   "name": "python",
   "nbconvert_exporter": "python",
   "pygments_lexer": "ipython3",
   "version": "3.10.8"
  }
 },
 "nbformat": 4,
 "nbformat_minor": 5
}
