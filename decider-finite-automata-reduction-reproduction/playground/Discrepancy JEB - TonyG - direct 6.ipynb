{
 "cells": [
  {
   "cell_type": "code",
   "execution_count": 1,
   "id": "2f96c233-efb2-4c63-a9dd-c2fb308ab6c6",
   "metadata": {
    "tags": []
   },
   "outputs": [],
   "source": [
    "import os\n",
    "import tqdm\n",
    "os.chdir(\"../\")"
   ]
  },
  {
   "cell_type": "code",
   "execution_count": 2,
   "id": "20b72426-4994-4e04-bfda-37b774a2981b",
   "metadata": {
    "tags": []
   },
   "outputs": [],
   "source": [
    "from parser_FAR_dvf import *"
   ]
  },
  {
   "cell_type": "code",
   "execution_count": 3,
   "id": "c03515f6-021b-45fb-bc22-5773f163861d",
   "metadata": {
    "tags": []
   },
   "outputs": [],
   "source": [
    "prefix = \"/home/cosmo/Documents/projects/bbchallenge/JEB/bbchallenge-deciders/decider-finite-automata-reduction/output\"\n",
    "dvf_JEB = FAR_DVF.from_file(prefix+\"/finite_automata_reduction.dvf\", pre_scan=True, compute_n_entries=True)\n",
    "dvf_Tony = FAR_DVF.from_file(prefix+\"/FAR_6_DFA_states.dvf\", pre_scan=True)"
   ]
  },
  {
   "cell_type": "markdown",
   "id": "85fd74a3-196a-4675-9473-21e49a324aa3",
   "metadata": {},
   "source": [
    "## Extract machines solved"
   ]
  },
  {
   "cell_type": "code",
   "execution_count": 12,
   "id": "6a92c755-de57-456d-acd1-a04441e9980f",
   "metadata": {
    "tags": []
   },
   "outputs": [
    {
     "name": "stderr",
     "output_type": "stream",
     "text": [
      "100%|█████████████████████████████████████████████████████████████████████████████████████████████████████████████| 504210/504210 [00:04<00:00, 119532.08it/s]\n"
     ]
    }
   ],
   "source": [
    "solved_JEB = set({})\n",
    "with open(prefix+\"/finite_automata_reduction.dvf\", \"rb\") as f:\n",
    "    for i in tqdm.tqdm(range(dvf_JEB.n_entries)):\n",
    "        header, _ = dvf_JEB.ith_entry(f,i, ignore_n_entries=True)\n",
    "        solved_JEB.add(header.machine_id)"
   ]
  },
  {
   "cell_type": "code",
   "execution_count": 13,
   "id": "d01099ff-f493-4d51-b90f-a4a7c284ca83",
   "metadata": {
    "tags": []
   },
   "outputs": [
    {
     "name": "stderr",
     "output_type": "stream",
     "text": [
      "100%|█████████████████████████████████████████████████████████████████████████████████████████████████████████████| 503169/503169 [00:04<00:00, 113173.67it/s]\n"
     ]
    }
   ],
   "source": [
    "solved_Tony = set({})\n",
    "with open(prefix+\"/FAR_6_DFA_states.dvf\", \"rb\") as f:\n",
    "    for i in tqdm.tqdm(range(dvf_Tony.n_entries)):\n",
    "        header, _ = dvf_Tony.ith_entry(f, i)\n",
    "        solved_Tony.add(header.machine_id)"
   ]
  },
  {
   "cell_type": "code",
   "execution_count": 6,
   "id": "045123b5-bef2-4a13-a7c8-9bf0d6e8620b",
   "metadata": {
    "tags": []
   },
   "outputs": [
    {
     "data": {
      "text/plain": [
       "503169"
      ]
     },
     "execution_count": 6,
     "metadata": {},
     "output_type": "execute_result"
    }
   ],
   "source": [
    "len(solved_JEB)"
   ]
  },
  {
   "cell_type": "code",
   "execution_count": 7,
   "id": "9f2b1548-16b7-431f-b291-c68aa25cd29c",
   "metadata": {
    "tags": []
   },
   "outputs": [
    {
     "data": {
      "text/plain": [
       "503169"
      ]
     },
     "execution_count": 7,
     "metadata": {},
     "output_type": "execute_result"
    }
   ],
   "source": [
    "len(solved_Tony)"
   ]
  },
  {
   "cell_type": "code",
   "execution_count": 8,
   "id": "4c91754b-952f-4e5e-b044-a882fd12a542",
   "metadata": {
    "tags": []
   },
   "outputs": [
    {
     "data": {
      "text/plain": [
       "True"
      ]
     },
     "execution_count": 8,
     "metadata": {},
     "output_type": "execute_result"
    }
   ],
   "source": [
    "solved_JEB == solved_Tony"
   ]
  },
  {
   "cell_type": "markdown",
   "id": "3f0a4efd-7ba4-4f0f-9cc4-8c21c1df36e5",
   "metadata": {
    "tags": []
   },
   "source": [
    "## Extract DFAs"
   ]
  },
  {
   "cell_type": "code",
   "execution_count": 17,
   "id": "15db05bc-84c8-4c8e-910d-124c88a7c9e1",
   "metadata": {
    "tags": []
   },
   "outputs": [
    {
     "name": "stderr",
     "output_type": "stream",
     "text": [
      "100%|██████████████████████████████████████████████████████████████████████████████████████████████████████████████| 504210/504210 [00:06<00:00, 77447.51it/s]\n"
     ]
    }
   ],
   "source": [
    "DFAs_JEB = {}\n",
    "with open(prefix+\"/finite_automata_reduction.dvf\", \"rb\") as f:\n",
    "    for i in tqdm.tqdm(range(dvf_JEB.n_entries)):\n",
    "        header, entry = dvf_JEB.ith_entry(f,i)\n",
    "        if header.machine_id not in DFAs_JEB:\n",
    "            DFAs_JEB[header.machine_id] = []\n",
    "        DFAs_JEB[header.machine_id].append(str(entry.dfa_transitions))"
   ]
  },
  {
   "cell_type": "code",
   "execution_count": 18,
   "id": "a1386fc6-1c64-4efa-941d-dc2019562ffc",
   "metadata": {
    "tags": []
   },
   "outputs": [
    {
     "name": "stderr",
     "output_type": "stream",
     "text": [
      "100%|██████████████████████████████████████████████████████████████████████████████████████████████████████████████| 503169/503169 [00:06<00:00, 75697.15it/s]\n"
     ]
    }
   ],
   "source": [
    "DFAs_Tony = {}\n",
    "with open(prefix+\"/FAR_6_DFA_states.dvf\", \"rb\") as f:\n",
    "    for i in tqdm.tqdm(range(dvf_Tony.n_entries)):\n",
    "        header, entry = dvf_Tony.ith_entry(f,i)\n",
    "        if header.machine_id not in DFAs_Tony:\n",
    "            DFAs_Tony[header.machine_id] = []\n",
    "        DFAs_Tony[header.machine_id].append(str(entry.dfa_transitions))"
   ]
  },
  {
   "cell_type": "code",
   "execution_count": 19,
   "id": "03815553-0aeb-4d47-ac53-23ad6450bb47",
   "metadata": {
    "tags": []
   },
   "outputs": [
    {
     "name": "stdout",
     "output_type": "stream",
     "text": [
      "75\n",
      "[[0, 1], [2, 3], [1, 3], [3, 4], [3, 5], [3, 3]]\n",
      "['[[0, 1], [2, 3], [1, 3], [3, 3]]']\n"
     ]
    }
   ],
   "source": [
    "for m in DFAs_Tony:\n",
    "    if not DFAs_Tony[m][0] in DFAs_JEB[m]:\n",
    "        print(m)\n",
    "        print(DFAs_Tony[m][0])\n",
    "        print(DFAs_JEB[m])\n",
    "        break"
   ]
  },
  {
   "cell_type": "code",
   "execution_count": 20,
   "id": "1ba84149-bda0-4e76-af46-adc1ebb68228",
   "metadata": {
    "tags": []
   },
   "outputs": [
    {
     "data": {
      "text/plain": [
       "465239"
      ]
     },
     "execution_count": 20,
     "metadata": {},
     "output_type": "execute_result"
    }
   ],
   "source": [
    "count = 0\n",
    "for m in DFAs_Tony:\n",
    "    if not DFAs_Tony[m][0] in DFAs_JEB[m]:\n",
    "        count += 1\n",
    "count"
   ]
  },
  {
   "cell_type": "code",
   "execution_count": 21,
   "id": "4bb20dad-3219-4849-8d73-fd4e09b85d72",
   "metadata": {
    "tags": []
   },
   "outputs": [
    {
     "data": {
      "text/plain": [
       "503169"
      ]
     },
     "execution_count": 21,
     "metadata": {},
     "output_type": "execute_result"
    }
   ],
   "source": [
    "len(DFAs_Tony)"
   ]
  },
  {
   "cell_type": "code",
   "execution_count": 23,
   "id": "2e60fd54-d367-4f28-8e39-702e8a11faae",
   "metadata": {
    "tags": []
   },
   "outputs": [
    {
     "data": {
      "text/plain": [
       "48"
      ]
     },
     "execution_count": 23,
     "metadata": {},
     "output_type": "execute_result"
    }
   ],
   "source": [
    "len(DFAs_Tony[75][0])"
   ]
  },
  {
   "cell_type": "code",
   "execution_count": 24,
   "id": "5b5a58bd-3e75-42be-bde4-cb2a283b4ed0",
   "metadata": {
    "tags": []
   },
   "outputs": [],
   "source": [
    "for m in DFAs_Tony:\n",
    "    if len(DFAs_Tony[m][0]) != 48:\n",
    "        print(m)"
   ]
  },
  {
   "cell_type": "code",
   "execution_count": null,
   "id": "32436132-3abf-4e9d-a2e9-9a25c6b8f87a",
   "metadata": {},
   "outputs": [],
   "source": []
  }
 ],
 "metadata": {
  "kernelspec": {
   "display_name": "Python 3 (ipykernel)",
   "language": "python",
   "name": "python3"
  },
  "language_info": {
   "codemirror_mode": {
    "name": "ipython",
    "version": 3
   },
   "file_extension": ".py",
   "mimetype": "text/x-python",
   "name": "python",
   "nbconvert_exporter": "python",
   "pygments_lexer": "ipython3",
   "version": "3.10.8"
  }
 },
 "nbformat": 4,
 "nbformat_minor": 5
}
