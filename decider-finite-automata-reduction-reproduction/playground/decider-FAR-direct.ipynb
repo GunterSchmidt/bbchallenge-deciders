{
 "cells": [
  {
   "cell_type": "code",
   "execution_count": 1,
   "id": "a67afda1-ebca-4efc-8c24-efceaa2c82aa",
   "metadata": {
    "tags": []
   },
   "outputs": [],
   "source": [
    "import os\n",
    "os.chdir(\"../\")\n",
    "from parser_FAR_dvf import *\n",
    "from tm_utils import *"
   ]
  },
  {
   "cell_type": "code",
   "execution_count": 2,
   "id": "eac600ee-1663-430f-99ac-b24e5e6eb6da",
   "metadata": {
    "tags": []
   },
   "outputs": [],
   "source": [
    "PATH_TO_DVF = \"resources/dfa_nfa_proofs.dvf\"\n",
    "PATH_TO_DB = \"../all_5_states_undecided_machines_with_global_header\""
   ]
  },
  {
   "cell_type": "code",
   "execution_count": 3,
   "id": "642b8726-9fa1-4d66-b099-e9cfb80385f4",
   "metadata": {
    "tags": []
   },
   "outputs": [],
   "source": [
    "machine_db_file = open(PATH_TO_DB, \"rb\")\n",
    "dvf_file = open(PATH_TO_DVF, \"rb\")"
   ]
  },
  {
   "cell_type": "code",
   "execution_count": 4,
   "id": "cd097d30-d498-4c3c-8283-c20ace2e56b2",
   "metadata": {
    "tags": []
   },
   "outputs": [],
   "source": [
    "dvf = FAR_DVF.from_file(PATH_TO_DVF, pre_scan=True)"
   ]
  },
  {
   "cell_type": "code",
   "execution_count": 5,
   "id": "d8b7f54c-39ca-4dd0-9b89-8ff7f17632aa",
   "metadata": {
    "tags": []
   },
   "outputs": [],
   "source": [
    "i = 0\n",
    "while True:\n",
    "    header, entry = dvf.ith_entry(dvf_file, i)\n",
    "    if entry.nb_dfa_states == 1:\n",
    "        break\n",
    "    i += 1"
   ]
  },
  {
   "cell_type": "code",
   "execution_count": 6,
   "id": "8b9f457d-502e-4132-9c07-d321afe578e8",
   "metadata": {
    "tags": []
   },
   "outputs": [
    {
     "data": {
      "text/plain": [
       "13551"
      ]
     },
     "execution_count": 6,
     "metadata": {},
     "output_type": "execute_result"
    }
   ],
   "source": [
    "header.machine_id"
   ]
  },
  {
   "cell_type": "code",
   "execution_count": 11,
   "id": "6735b687-0fef-4777-9eca-cfb2abc71566",
   "metadata": {
    "tags": []
   },
   "outputs": [
    {
     "data": {
      "text/plain": [
       "False"
      ]
     },
     "execution_count": 11,
     "metadata": {},
     "output_type": "execute_result"
    }
   ],
   "source": [
    "entry.direction_right_to_left"
   ]
  },
  {
   "cell_type": "code",
   "execution_count": 10,
   "id": "305f4e5f-263f-4a7a-a84a-5aa9586ee743",
   "metadata": {
    "tags": []
   },
   "outputs": [
    {
     "data": {
      "text/plain": [
       "array([[0, 1, 0, 0, 0, 0],\n",
       "       [0, 0, 1, 0, 0, 0],\n",
       "       [0, 0, 0, 1, 0, 0],\n",
       "       [0, 0, 0, 0, 1, 0],\n",
       "       [0, 1, 0, 1, 0, 0],\n",
       "       [0, 0, 0, 0, 0, 1]])"
      ]
     },
     "execution_count": 10,
     "metadata": {},
     "output_type": "execute_result"
    }
   ],
   "source": [
    "entry.nfa_transitions[0].astype(int)"
   ]
  },
  {
   "cell_type": "code",
   "execution_count": 12,
   "id": "a8361940-1330-4540-849d-65a6444a0fcb",
   "metadata": {
    "tags": []
   },
   "outputs": [
    {
     "data": {
      "text/plain": [
       "array([[False, False, False, False, False,  True]])"
      ]
     },
     "execution_count": 12,
     "metadata": {},
     "output_type": "execute_result"
    }
   ],
   "source": [
    "entry.accept_vector"
   ]
  },
  {
   "cell_type": "code",
   "execution_count": null,
   "id": "9f2e1d57-4359-4997-8d8c-0c3e8ca10021",
   "metadata": {},
   "outputs": [],
   "source": []
  },
  {
   "cell_type": "code",
   "execution_count": 14,
   "id": "16d2fc69-a4f5-4314-af7b-1814688281c0",
   "metadata": {
    "tags": []
   },
   "outputs": [
    {
     "name": "stdout",
     "output_type": "stream",
     "text": [
      "4\n",
      "75\n"
     ]
    }
   ],
   "source": [
    "header, entry = dvf.ith_entry(dvf_file, 0)\n",
    "print(entry.nb_dfa_states)\n",
    "print(header.machine_id)"
   ]
  },
  {
   "cell_type": "code",
   "execution_count": 15,
   "id": "d806c3a2-74a6-4261-a326-c57e38de319c",
   "metadata": {
    "tags": []
   },
   "outputs": [
    {
     "data": {
      "text/plain": [
       "[[0, 1], [2, 3], [1, 3], [3, 3]]"
      ]
     },
     "execution_count": 15,
     "metadata": {},
     "output_type": "execute_result"
    }
   ],
   "source": [
    "entry.dfa_transitions"
   ]
  },
  {
   "cell_type": "code",
   "execution_count": 31,
   "id": "8a463362-637d-4097-bffb-798c07a00805",
   "metadata": {
    "tags": []
   },
   "outputs": [
    {
     "name": "stdout",
     "output_type": "stream",
     "text": [
      "s    0    1\n",
      "---  ---  ---\n",
      "A    1RB  ---\n",
      "B    0RC  ---\n",
      "C    0RD  ---\n",
      "D    0LE  0RC\n",
      "E    1LD  0LA\n"
     ]
    }
   ],
   "source": [
    "pptm(load_machine_from_db(machine_db_file,75))"
   ]
  },
  {
   "cell_type": "code",
   "execution_count": null,
   "id": "00ede1ec-51c9-4cfc-81b4-fa886d0ebe44",
   "metadata": {},
   "outputs": [],
   "source": []
  }
 ],
 "metadata": {
  "kernelspec": {
   "display_name": "Python 3 (ipykernel)",
   "language": "python",
   "name": "python3"
  },
  "language_info": {
   "codemirror_mode": {
    "name": "ipython",
    "version": 3
   },
   "file_extension": ".py",
   "mimetype": "text/x-python",
   "name": "python",
   "nbconvert_exporter": "python",
   "pygments_lexer": "ipython3",
   "version": "3.10.8"
  }
 },
 "nbformat": 4,
 "nbformat_minor": 5
}
